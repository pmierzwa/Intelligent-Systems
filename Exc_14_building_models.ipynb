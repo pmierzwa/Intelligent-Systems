{
 "cells": [
  {
   "cell_type": "markdown",
   "metadata": {},
   "source": [
    "# Exercise for Lecture 14: Building Models\n",
    "  \n",
    "Having learned the basics of regression and classification, we will now use neural network to carry out these two tasks.\n",
    "\n",
    "This notebook is not a tutorial, and will therefore only give you hints at how to solve the exercises. The results of this notebook will be part of your hand-in for this part of the course."
   ]
  },
  {
   "cell_type": "code",
   "execution_count": 1,
   "metadata": {},
   "outputs": [
    {
     "data": {
      "text/html": [
       "<link href='http://fonts.googleapis.com/css?family=Alegreya+Sans:100,300,400,500,700,800,900,100italic,300italic,400italic,500italic,700italic,800italic,900italic' rel='stylesheet' type='text/css'>\n",
       "<link href='http://fonts.googleapis.com/css?family=Arvo:400,700,400italic' rel='stylesheet' type='text/css'>\n",
       "<link href='http://fonts.googleapis.com/css?family=PT+Mono' rel='stylesheet' type='text/css'>\n",
       "<link href='http://fonts.googleapis.com/css?family=Shadows+Into+Light' rel='stylesheet' type='text/css'>\n",
       "<link href='http://fonts.googleapis.com/css?family=Philosopher:400,700,400italic,700italic' rel='stylesheet' type='text/css'>\n",
       "\n",
       "<style>\n",
       "\n",
       "@font-face {\n",
       "    font-family: \"Computer Modern\";\n",
       "    src: url('http://mirrors.ctan.org/fonts/cm-unicode/fonts/otf/cmunss.otf');\n",
       "}\n",
       "\n",
       "#notebook_panel { /* main background */\n",
       "    background: #888;\n",
       "    color: #f6f6f6;\n",
       "}\n",
       "\n",
       "div.cell { /* set cell width to about 80 chars */\n",
       "    width: 800px;\n",
       "}\n",
       "\n",
       "div #notebook { /* centre the content */\n",
       "    background: #fff; /* white background for content */\n",
       "    width: 1000px;\n",
       "    margin: auto;\n",
       "    padding-left: 1em;\n",
       "}\n",
       "\n",
       "#notebook li { /* More space between bullet points */\n",
       "margin-top:0.8em;\n",
       "}\n",
       "\n",
       "/* draw border around running cells */\n",
       "div.cell.border-box-sizing.code_cell.running { \n",
       "    border: 3px solid #111;\n",
       "}\n",
       "\n",
       "/* Put a solid color box around each cell and its output, visually linking them together */\n",
       "div.cell.code_cell {\n",
       "    background-color: rgba(153,153,153,0.2); \n",
       "    border-radius: 10px; /* rounded borders */\n",
       "    padding: 1em;\n",
       "    margin-top: 1em;\n",
       "}\n",
       "\n",
       "div.text_cell_render{\n",
       "    font-family: 'Computer Modern' serif;\n",
       "    line-height: 130%;\n",
       "    font-size: 115%;\n",
       "    width:700px;\n",
       "    margin-left:auto;\n",
       "    margin-right:auto;\n",
       "}\n",
       "\n",
       "\n",
       "/* Formatting for header cells */\n",
       ".text_cell_render h1 {\n",
       "    font-family: 'Neo Sans', sans-serif;\n",
       "    font-weight: 300;\n",
       "    font-size: 40pt;\n",
       "    line-height: 100%;\n",
       "    color: rgb(153,0,0);\n",
       "    margin-bottom: 0.1em;\n",
       "    margin-top: 0.1em;\n",
       "    display: block;\n",
       "}\t\n",
       ".text_cell_render h2 {\n",
       "    font-family: 'Neo Sans', sans-serif;\n",
       "    font-weight: 300;\n",
       "    font-size: 24pt;\n",
       "    line-height: 100%;\n",
       "    color: rgb(153,0,0);\n",
       "    margin-bottom: 0.1em;\n",
       "    margin-top: 0.1em;\n",
       "    display: block;\n",
       "}\t\n",
       "\n",
       ".text_cell_render h3 {\n",
       "    font-family: 'Neo Sans', sans-serif;\n",
       "    margin-top:12px;\n",
       "    margin-bottom: 3px;\n",
       "    font-style: italic;\n",
       "    color: rgb(153,0,0);\n",
       "}\n",
       "\n",
       ".text_cell_render h4 {\n",
       "    font-family: 'Neo Sans', sans-serif;\n",
       "}\n",
       "\n",
       ".text_cell_render h5 {\n",
       "    font-family: 'Alegreya Sans', sans-serif;\n",
       "    font-weight: 300;\n",
       "    font-size: 16pt;\n",
       "    color: grey;\n",
       "    font-style: italic;\n",
       "    margin-bottom: .1em;\n",
       "    margin-top: 0.1em;\n",
       "    display: block;\n",
       "}\n",
       "\n",
       ".text_cell_render h6 {\n",
       "    font-family: 'PT Mono', sans-serif;\n",
       "    font-weight: 300;\n",
       "    font-size: 10pt;\n",
       "    color: grey;\n",
       "    margin-bottom: 1px;\n",
       "    margin-top: 1px;\n",
       "}\n",
       "\n",
       ".CodeMirror{\n",
       "        font-family: \"PT Mono\";\n",
       "        font-size: 100%;\n",
       "}\n",
       "\n",
       "</style>\n"
      ],
      "text/plain": [
       "<IPython.core.display.HTML object>"
      ]
     },
     "execution_count": 1,
     "metadata": {},
     "output_type": "execute_result"
    }
   ],
   "source": [
    "from IPython.core.display import HTML\n",
    "css_file = './31380.css'\n",
    "HTML(open(css_file, \"r\").read())"
   ]
  },
  {
   "cell_type": "markdown",
   "metadata": {},
   "source": [
    "## Exercise 1: Regression\n",
    "\n",
    "Import the combined gaia file from last exercise and split it into training set and test set. Use 3/4 of the data for training."
   ]
  },
  {
   "cell_type": "code",
   "execution_count": 2,
   "metadata": {},
   "outputs": [],
   "source": [
    "import pandas as pd\n",
    "import matplotlib.pyplot as plt\n",
    "import seaborn as sns\n",
    "import numpy as np\n",
    "%matplotlib inline"
   ]
  },
  {
   "cell_type": "code",
   "execution_count": 3,
   "metadata": {},
   "outputs": [
    {
     "name": "stdout",
     "output_type": "stream",
     "text": [
      "Index(['TIMESTAMP', 'WINDSPEED[m/s]', 'Unnamed: 2', 'RPM0[1/min]',\n",
      "       'Unnamed: 4', 'RPM1[1/min]', 'Unnamed: 6', 'P[kW]', 'Unnamed: 8',\n",
      "       'U[V]', 'Unnamed: 10', 'STATE[-]', 'Unnamed: 12'],\n",
      "      dtype='object')\n"
     ]
    }
   ],
   "source": [
    "# Import the gaia data here\n",
    "gaia_data={}\n",
    "gaia_data['RAW'] = pd.read_csv('all_gaia.csv')\n",
    "print(gaia_data['RAW'].columns)"
   ]
  },
  {
   "cell_type": "markdown",
   "metadata": {},
   "source": [
    "Plot the scatter plot of windspeed vs. power output. Remember that this is the underlying function we want to approximate."
   ]
  },
  {
   "cell_type": "code",
   "execution_count": 4,
   "metadata": {},
   "outputs": [
    {
     "data": {
      "text/html": [
       "<div>\n",
       "<style>\n",
       "    .dataframe thead tr:only-child th {\n",
       "        text-align: right;\n",
       "    }\n",
       "\n",
       "    .dataframe thead th {\n",
       "        text-align: left;\n",
       "    }\n",
       "\n",
       "    .dataframe tbody tr th {\n",
       "        vertical-align: top;\n",
       "    }\n",
       "</style>\n",
       "<table border=\"1\" class=\"dataframe\">\n",
       "  <thead>\n",
       "    <tr style=\"text-align: right;\">\n",
       "      <th></th>\n",
       "      <th>TIMESTAMP</th>\n",
       "      <th>WINDSPEED</th>\n",
       "      <th>Unnamed: 2</th>\n",
       "      <th>RMP0</th>\n",
       "      <th>Unnamed: 4</th>\n",
       "      <th>RPM0</th>\n",
       "      <th>Unnamed: 6</th>\n",
       "      <th>POWER OUTPUT</th>\n",
       "      <th>Unnamed: 8</th>\n",
       "      <th>U[V]</th>\n",
       "      <th>Unnamed: 10</th>\n",
       "      <th>STATE[-]</th>\n",
       "      <th>Unnamed: 12</th>\n",
       "    </tr>\n",
       "  </thead>\n",
       "  <tbody>\n",
       "    <tr>\n",
       "      <th>0</th>\n",
       "      <td>1507680001000</td>\n",
       "      <td>4.2</td>\n",
       "      <td>AAA8/</td>\n",
       "      <td>1009.0</td>\n",
       "      <td>AAA8/</td>\n",
       "      <td>55.0</td>\n",
       "      <td>AAA8/</td>\n",
       "      <td>3.6</td>\n",
       "      <td>AAA8/</td>\n",
       "      <td>400.1</td>\n",
       "      <td>AAA8/</td>\n",
       "      <td>64</td>\n",
       "      <td>AAA8/</td>\n",
       "    </tr>\n",
       "    <tr>\n",
       "      <th>1</th>\n",
       "      <td>1507680002000</td>\n",
       "      <td>4.2</td>\n",
       "      <td>AAA8/</td>\n",
       "      <td>1009.0</td>\n",
       "      <td>AAA8/</td>\n",
       "      <td>55.0</td>\n",
       "      <td>AAA8/</td>\n",
       "      <td>3.6</td>\n",
       "      <td>AAA8/</td>\n",
       "      <td>400.1</td>\n",
       "      <td>AAA8/</td>\n",
       "      <td>64</td>\n",
       "      <td>AAA8/</td>\n",
       "    </tr>\n",
       "    <tr>\n",
       "      <th>2</th>\n",
       "      <td>1507680003000</td>\n",
       "      <td>4.1</td>\n",
       "      <td>AAA8/</td>\n",
       "      <td>1009.0</td>\n",
       "      <td>AAA8/</td>\n",
       "      <td>55.0</td>\n",
       "      <td>AAA8/</td>\n",
       "      <td>3.6</td>\n",
       "      <td>AAA8/</td>\n",
       "      <td>398.4</td>\n",
       "      <td>AAA8/</td>\n",
       "      <td>64</td>\n",
       "      <td>AAA8/</td>\n",
       "    </tr>\n",
       "    <tr>\n",
       "      <th>3</th>\n",
       "      <td>1507680004000</td>\n",
       "      <td>4.1</td>\n",
       "      <td>AAA8/</td>\n",
       "      <td>1010.0</td>\n",
       "      <td>AAA8/</td>\n",
       "      <td>55.0</td>\n",
       "      <td>AAA8/</td>\n",
       "      <td>3.6</td>\n",
       "      <td>AAA8/</td>\n",
       "      <td>400.1</td>\n",
       "      <td>AAA8/</td>\n",
       "      <td>64</td>\n",
       "      <td>AAA8/</td>\n",
       "    </tr>\n",
       "    <tr>\n",
       "      <th>4</th>\n",
       "      <td>1507680005000</td>\n",
       "      <td>4.1</td>\n",
       "      <td>AAA8/</td>\n",
       "      <td>1011.0</td>\n",
       "      <td>AAA8/</td>\n",
       "      <td>55.0</td>\n",
       "      <td>AAA8/</td>\n",
       "      <td>3.6</td>\n",
       "      <td>AAA8/</td>\n",
       "      <td>400.1</td>\n",
       "      <td>AAA8/</td>\n",
       "      <td>64</td>\n",
       "      <td>AAA8/</td>\n",
       "    </tr>\n",
       "  </tbody>\n",
       "</table>\n",
       "</div>"
      ],
      "text/plain": [
       "       TIMESTAMP  WINDSPEED Unnamed: 2    RMP0 Unnamed: 4  RPM0 Unnamed: 6  \\\n",
       "0  1507680001000        4.2      AAA8/  1009.0      AAA8/  55.0      AAA8/   \n",
       "1  1507680002000        4.2      AAA8/  1009.0      AAA8/  55.0      AAA8/   \n",
       "2  1507680003000        4.1      AAA8/  1009.0      AAA8/  55.0      AAA8/   \n",
       "3  1507680004000        4.1      AAA8/  1010.0      AAA8/  55.0      AAA8/   \n",
       "4  1507680005000        4.1      AAA8/  1011.0      AAA8/  55.0      AAA8/   \n",
       "\n",
       "   POWER OUTPUT Unnamed: 8   U[V] Unnamed: 10  STATE[-] Unnamed: 12  \n",
       "0           3.6      AAA8/  400.1       AAA8/        64       AAA8/  \n",
       "1           3.6      AAA8/  400.1       AAA8/        64       AAA8/  \n",
       "2           3.6      AAA8/  398.4       AAA8/        64       AAA8/  \n",
       "3           3.6      AAA8/  400.1       AAA8/        64       AAA8/  \n",
       "4           3.6      AAA8/  400.1       AAA8/        64       AAA8/  "
      ]
     },
     "execution_count": 4,
     "metadata": {},
     "output_type": "execute_result"
    }
   ],
   "source": [
    "# change the names\n",
    "gaia_data['GAIA'] = gaia_data['RAW'].rename(columns={\n",
    "    'WINDSPEED[m/s]': 'WINDSPEED', 'RPM0[1/min]': 'RMP0'\n",
    "    ,'RPM1[1/min]':'RPM0', 'P[kW]':'POWER OUTPUT'})\n",
    "\n",
    "gaia_data['GAIA'].head()"
   ]
  },
  {
   "cell_type": "code",
   "execution_count": 5,
   "metadata": {},
   "outputs": [
    {
     "data": {
      "text/plain": [
       "<matplotlib.axes._subplots.AxesSubplot at 0x7f02ba83a978>"
      ]
     },
     "execution_count": 5,
     "metadata": {},
     "output_type": "execute_result"
    },
    {
     "data": {
      "image/png": "[encoded data removed]",
      "text/plain": [
       "<matplotlib.figure.Figure at 0x7f02ba83a198>"
      ]
     },
     "metadata": {},
     "output_type": "display_data"
    }
   ],
   "source": [
    "# Your scatter plot looks nice here\n",
    "sns.regplot(x=gaia_data['GAIA']['WINDSPEED'],y=gaia_data['GAIA']['POWER OUTPUT'],fit_reg=True)\n"
   ]
  },
  {
   "cell_type": "markdown",
   "metadata": {},
   "source": [
    "Try your hand at generating your first neural network. You can use the example from the lecture to get started. Choose different activation functions, learning rates, epochs and batch sizes. What can you say about the relationship between these values and their influence on the RMSE of your model prediction. Refer to the [Keras documentation](https://keras.io) in order to get an idea of the capabilities of the library."
   ]
  },
  {
   "cell_type": "code",
   "execution_count": 6,
   "metadata": {
    "scrolled": true
   },
   "outputs": [
    {
     "name": "stderr",
     "output_type": "stream",
     "text": [
      "Using TensorFlow backend.\n"
     ]
    },
    {
     "name": "stdout",
     "output_type": "stream",
     "text": [
      "Epoch 1/50\n",
      "299639/299639 [==============================] - 0s - loss: 2.2510     \n",
      "Epoch 2/50\n",
      "299639/299639 [==============================] - 0s - loss: 2.0690     \n",
      "Epoch 3/50\n",
      "299639/299639 [==============================] - 1s - loss: 2.0700     \n",
      "Epoch 4/50\n",
      "299639/299639 [==============================] - 0s - loss: 2.0703     \n",
      "Epoch 5/50\n",
      "299639/299639 [==============================] - 0s - loss: 2.0704     \n",
      "Epoch 6/50\n",
      "299639/299639 [==============================] - 0s - loss: 2.0702     \n",
      "Epoch 7/50\n",
      "299639/299639 [==============================] - 0s - loss: 2.0700     \n",
      "Epoch 8/50\n",
      "299639/299639 [==============================] - 0s - loss: 2.0698     \n",
      "Epoch 9/50\n",
      "299639/299639 [==============================] - 0s - loss: 2.0696     \n",
      "Epoch 10/50\n",
      "299639/299639 [==============================] - 0s - loss: 2.0694     \n",
      "Epoch 11/50\n",
      "299639/299639 [==============================] - 0s - loss: 2.0693     \n",
      "Epoch 12/50\n",
      "299639/299639 [==============================] - 0s - loss: 2.0691     \n",
      "Epoch 13/50\n",
      "299639/299639 [==============================] - 0s - loss: 2.0689     \n",
      "Epoch 14/50\n",
      "299639/299639 [==============================] - 0s - loss: 2.0687     \n",
      "Epoch 15/50\n",
      "299639/299639 [==============================] - 0s - loss: 2.0686     \n",
      "Epoch 16/50\n",
      "299639/299639 [==============================] - 0s - loss: 2.0684     \n",
      "Epoch 17/50\n",
      "299639/299639 [==============================] - 0s - loss: 2.0681     \n",
      "Epoch 18/50\n",
      "299639/299639 [==============================] - 0s - loss: 2.0679     \n",
      "Epoch 19/50\n",
      "299639/299639 [==============================] - 0s - loss: 2.0676     \n",
      "Epoch 20/50\n",
      "299639/299639 [==============================] - 0s - loss: 2.0673     \n",
      "Epoch 21/50\n",
      "299639/299639 [==============================] - 0s - loss: 2.0670     \n",
      "Epoch 22/50\n",
      "299639/299639 [==============================] - 0s - loss: 1.3958     \n",
      "Epoch 23/50\n",
      "299639/299639 [==============================] - 0s - loss: 0.2186     \n",
      "Epoch 24/50\n",
      "299639/299639 [==============================] - 0s - loss: 0.2173     \n",
      "Epoch 25/50\n",
      "299639/299639 [==============================] - 0s - loss: 0.2175     \n",
      "Epoch 26/50\n",
      "299639/299639 [==============================] - 0s - loss: 0.2178     \n",
      "Epoch 27/50\n",
      "299639/299639 [==============================] - 0s - loss: 0.2180     \n",
      "Epoch 28/50\n",
      "299639/299639 [==============================] - 0s - loss: 0.2182     \n",
      "Epoch 29/50\n",
      "299639/299639 [==============================] - 0s - loss: 0.2182     \n",
      "Epoch 30/50\n",
      "299639/299639 [==============================] - 0s - loss: 0.2182     \n",
      "Epoch 31/50\n",
      "299639/299639 [==============================] - 0s - loss: 0.2182     \n",
      "Epoch 32/50\n",
      "299639/299639 [==============================] - 0s - loss: 0.2182     \n",
      "Epoch 33/50\n",
      "299639/299639 [==============================] - 0s - loss: 0.2182     \n",
      "Epoch 34/50\n",
      "299639/299639 [==============================] - 0s - loss: 0.2182     \n",
      "Epoch 35/50\n",
      "299639/299639 [==============================] - 0s - loss: 0.2182     \n",
      "Epoch 36/50\n",
      "299639/299639 [==============================] - 0s - loss: 0.2182     \n",
      "Epoch 37/50\n",
      "299639/299639 [==============================] - 0s - loss: 0.2182     \n",
      "Epoch 38/50\n",
      "299639/299639 [==============================] - 0s - loss: 0.2182     \n",
      "Epoch 39/50\n",
      "299639/299639 [==============================] - 0s - loss: 0.2182     \n",
      "Epoch 40/50\n",
      "299639/299639 [==============================] - 0s - loss: 0.2182     \n",
      "Epoch 41/50\n",
      "299639/299639 [==============================] - 0s - loss: 0.2182     \n",
      "Epoch 42/50\n",
      "299639/299639 [==============================] - 0s - loss: 0.2181     \n",
      "Epoch 43/50\n",
      "299639/299639 [==============================] - 0s - loss: 0.2181     \n",
      "Epoch 44/50\n",
      "299639/299639 [==============================] - 0s - loss: 0.2181     \n",
      "Epoch 45/50\n",
      "299639/299639 [==============================] - 0s - loss: 0.2181     \n",
      "Epoch 46/50\n",
      "299639/299639 [==============================] - 0s - loss: 0.2181     \n",
      "Epoch 47/50\n",
      "299639/299639 [==============================] - 0s - loss: 0.2181     \n",
      "Epoch 48/50\n",
      "299639/299639 [==============================] - 0s - loss: 0.2181     \n",
      "Epoch 49/50\n",
      "299639/299639 [==============================] - 0s - loss: 0.2181     \n",
      "Epoch 50/50\n",
      "299639/299639 [==============================] - 0s - loss: 0.2181     \n"
     ]
    }
   ],
   "source": [
    "#Split the data. 25% for test and 75% for training\n",
    "# creating train data\n",
    "gaia_data['NO_NAN'] = gaia_data['GAIA'].dropna()\n",
    "\n",
    "from sklearn.model_selection import train_test_split\n",
    "x_train, x_test, y_train, y_test = train_test_split(gaia_data['NO_NAN']['WINDSPEED'],\n",
    "                                                    gaia_data['NO_NAN']['POWER OUTPUT'], \n",
    "                                                    test_size=0.25, \n",
    "                                                    random_state=42)\n",
    "\n",
    "\n",
    "# Remember to import the kind of layers you want from the keras library.\n",
    "from keras.models import Sequential\n",
    "from keras.layers import Dense, Activation\n",
    "from keras import optimizers\n",
    "model = Sequential()\n",
    "model.add(Dense(10, input_shape=(1,)))\n",
    "model.add(Activation('relu')) #relu\n",
    "model.add(Dense(1))\n",
    "model.add(Activation('linear'))\n",
    "adam = optimizers.Adam(lr=0.01, beta_1=0.9,\n",
    "beta_2=0.999, epsilon=1e-08, decay=0.0)\n",
    "model.compile(loss='mean_squared_error', optimizer=adam)\n",
    "model.fit(x_train.values,y_train.values,\n",
    "epochs = 50, batch_size=500, shuffle=False)\n",
    "y_pred = model.predict(x_test.values, batch_size = 1000)"
   ]
  },
  {
   "cell_type": "markdown",
   "metadata": {},
   "source": [
    "Try plotting the time series of your prediction and your y_test. Does it look as expected? How about a scatter plot of the windspeed vs. your prediction?"
   ]
  },
  {
   "cell_type": "code",
   "execution_count": 9,
   "metadata": {},
   "outputs": [
    {
     "data": {
      "text/plain": [
       "<matplotlib.legend.Legend at 0x7f02a03ea908>"
      ]
     },
     "execution_count": 9,
     "metadata": {},
     "output_type": "execute_result"
    },
    {
     "data": {
      "image/png": "[encoded data removed]",
      "text/plain": [
       "<matplotlib.figure.Figure at 0x7f02a2846080>"
      ]
     },
     "metadata": {},
     "output_type": "display_data"
    }
   ],
   "source": [
    "# Your pretty plots here\n",
    "plt.plot(x_test,y_test,ls='',marker='.',label='trained')\n",
    "plt.plot(x_test,y_pred,ls='',marker='.',label='predicted')\n",
    "plt.legend()"
   ]
  },
  {
   "cell_type": "markdown",
   "metadata": {},
   "source": [
    "If you want to try something with more dimensions, play with the solar data, or find a fun data set [here](https://archive.ics.uci.edu/ml/datasets.html)"
   ]
  },
  {
   "cell_type": "markdown",
   "metadata": {
    "collapsed": true
   },
   "source": [
    "## Exercise 2: Classification\n",
    "\n",
    "In this exercise we will use the following set of data: https://archive.ics.uci.edu/ml/machine-learning-databases/00194/\n",
    "\n",
    "Download the AllData.zip, unpack it and read the file Wall-following.names\n",
    "\n",
    "Import the sensor_readings_XX.data files, and visualize the data with 2 sensor readings in a scatter plot.\n",
    "\n",
    "* *Hint: Use the code snippet provided below*"
   ]
  },
  {
   "cell_type": "code",
   "execution_count": 19,
   "metadata": {},
   "outputs": [
    {
     "name": "stdout",
     "output_type": "stream",
     "text": [
      "Int64Index([0, 1, 2], dtype='int64')\n"
     ]
    },
    {
     "data": {
      "image/png": "[encoded data removed]",
      "text/plain": [
       "<matplotlib.figure.Figure at 0x7f02a02cc3c8>"
      ]
     },
     "metadata": {},
     "output_type": "display_data"
    }
   ],
   "source": [
    "# Import the files by using pandas here, notice that there's no header,\n",
    "# so you will have to set the option header=None when importing\n",
    "file_2sens = pd.read_csv('sensor_readings_2.data',header=None)\n",
    "print(data_2_sensors.columns)\n",
    "\n",
    "# Visualize here\n",
    "data_2_sensors = file_2sens.groupby(file_2sens[2])\n",
    "\n",
    "fig, ax = plt.subplots()\n",
    "ax.margins(0.05) # A adds 5% padding to the autoscaling\n",
    "for movement,sensor in data_2_sensors:\n",
    "    ax.plot(sensor[0], sensor[1], marker='o', linestyle='', ms=5, label=movement)\n",
    "ax.legend()\n",
    "\n",
    "plt.show()"
   ]
  },
  {
   "cell_type": "markdown",
   "metadata": {},
   "source": [
    "As in the previous exercise, create, train and tune a neural network classifier that allows the robot to decide which action it should take. Remember to split training set and test set. In the case of a classifier you must choose a different loss function. A popular one for classification is the categorical_crossentropy."
   ]
  },
  {
   "cell_type": "code",
   "execution_count": 46,
   "metadata": {},
   "outputs": [
    {
     "name": "stdout",
     "output_type": "stream",
     "text": [
      "[3 3 3 ..., 1 0 1]\n"
     ]
    }
   ],
   "source": [
    "from sklearn import preprocessing\n",
    "le = preprocessing.LabelEncoder()\n",
    "le.fit(file_2sens[2])\n",
    "fC = le.transform(file_2sens[2])\n",
    "print(fC"
   ]
  },
  {
   "cell_type": "code",
   "execution_count": 50,
   "metadata": {
    "scrolled": true
   },
   "outputs": [
    {
     "data": {
      "text/html": [
       "<div>\n",
       "<style>\n",
       "    .dataframe thead tr:only-child th {\n",
       "        text-align: right;\n",
       "    }\n",
       "\n",
       "    .dataframe thead th {\n",
       "        text-align: left;\n",
       "    }\n",
       "\n",
       "    .dataframe tbody tr th {\n",
       "        vertical-align: top;\n",
       "    }\n",
       "</style>\n",
       "<table border=\"1\" class=\"dataframe\">\n",
       "  <thead>\n",
       "    <tr style=\"text-align: right;\">\n",
       "      <th></th>\n",
       "      <th>0</th>\n",
       "      <th>1</th>\n",
       "    </tr>\n",
       "  </thead>\n",
       "  <tbody>\n",
       "    <tr>\n",
       "      <th>0</th>\n",
       "      <td>1.687</td>\n",
       "      <td>0.445</td>\n",
       "    </tr>\n",
       "    <tr>\n",
       "      <th>1</th>\n",
       "      <td>1.687</td>\n",
       "      <td>0.449</td>\n",
       "    </tr>\n",
       "    <tr>\n",
       "      <th>2</th>\n",
       "      <td>1.687</td>\n",
       "      <td>0.449</td>\n",
       "    </tr>\n",
       "    <tr>\n",
       "      <th>3</th>\n",
       "      <td>1.687</td>\n",
       "      <td>0.449</td>\n",
       "    </tr>\n",
       "    <tr>\n",
       "      <th>4</th>\n",
       "      <td>1.687</td>\n",
       "      <td>0.449</td>\n",
       "    </tr>\n",
       "  </tbody>\n",
       "</table>\n",
       "</div>"
      ],
      "text/plain": [
       "       0      1\n",
       "0  1.687  0.445\n",
       "1  1.687  0.449\n",
       "2  1.687  0.449\n",
       "3  1.687  0.449\n",
       "4  1.687  0.449"
      ]
     },
     "execution_count": 50,
     "metadata": {},
     "output_type": "execute_result"
    }
   ],
   "source": [
    "file_2sens.iloc[:,:2].head()"
   ]
  },
  {
   "cell_type": "code",
   "execution_count": 62,
   "metadata": {
    "scrolled": true
   },
   "outputs": [
    {
     "name": "stdout",
     "output_type": "stream",
     "text": [
      "Epoch 1/50\n",
      "4092/4092 [==============================] - 0s - loss: 1.7055     \n",
      "Epoch 2/50\n",
      "4092/4092 [==============================] - 0s - loss: 1.4147     \n",
      "Epoch 3/50\n",
      "4092/4092 [==============================] - 0s - loss: 1.2588     \n",
      "Epoch 4/50\n",
      "4092/4092 [==============================] - 0s - loss: 1.1404     \n",
      "Epoch 5/50\n",
      "4092/4092 [==============================] - 0s - loss: 1.0443     \n",
      "Epoch 6/50\n",
      "4092/4092 [==============================] - 0s - loss: 0.9564     \n",
      "Epoch 7/50\n",
      "4092/4092 [==============================] - 0s - loss: 0.8732     \n",
      "Epoch 8/50\n",
      "4092/4092 [==============================] - 0s - loss: 0.8186     \n",
      "Epoch 9/50\n",
      "4092/4092 [==============================] - 0s - loss: 0.8156     \n",
      "Epoch 10/50\n",
      "4092/4092 [==============================] - 0s - loss: 0.7697     \n",
      "Epoch 11/50\n",
      "4092/4092 [==============================] - 0s - loss: 0.7541     \n",
      "Epoch 12/50\n",
      "4092/4092 [==============================] - 0s - loss: 0.7307     \n",
      "Epoch 13/50\n",
      "4092/4092 [==============================] - 0s - loss: 0.7125     \n",
      "Epoch 14/50\n",
      "4092/4092 [==============================] - 0s - loss: 0.6969     \n",
      "Epoch 15/50\n",
      "4092/4092 [==============================] - 0s - loss: 0.6828     \n",
      "Epoch 16/50\n",
      "4092/4092 [==============================] - 0s - loss: 0.6689     \n",
      "Epoch 17/50\n",
      "4092/4092 [==============================] - 0s - loss: 0.6601     \n",
      "Epoch 18/50\n",
      "4092/4092 [==============================] - 0s - loss: 0.6498     \n",
      "Epoch 19/50\n",
      "4092/4092 [==============================] - 0s - loss: 0.6284     \n",
      "Epoch 20/50\n",
      "4092/4092 [==============================] - 0s - loss: 0.6194     \n",
      "Epoch 21/50\n",
      "4092/4092 [==============================] - ETA: 0s - loss: 0.572 - 0s - loss: 0.6102     \n",
      "Epoch 22/50\n",
      "4092/4092 [==============================] - 0s - loss: 0.5985     \n",
      "Epoch 23/50\n",
      "4092/4092 [==============================] - 0s - loss: 0.5806     \n",
      "Epoch 24/50\n",
      "4092/4092 [==============================] - 0s - loss: 0.5930     \n",
      "Epoch 25/50\n",
      "4092/4092 [==============================] - 0s - loss: 0.6016     \n",
      "Epoch 26/50\n",
      "4092/4092 [==============================] - 0s - loss: 0.5897     \n",
      "Epoch 27/50\n",
      "4092/4092 [==============================] - 0s - loss: 0.5676     - ETA: 0s - loss: 0.572\n",
      "Epoch 28/50\n",
      "4092/4092 [==============================] - 0s - loss: 0.5532     \n",
      "Epoch 29/50\n",
      "4092/4092 [==============================] - 0s - loss: 0.5359     \n",
      "Epoch 30/50\n",
      "4092/4092 [==============================] - 0s - loss: 0.5205     \n",
      "Epoch 31/50\n",
      "4092/4092 [==============================] - 0s - loss: 0.4698     \n",
      "Epoch 32/50\n",
      "4092/4092 [==============================] - 0s - loss: 0.3780     \n",
      "Epoch 33/50\n",
      "4092/4092 [==============================] - 0s - loss: 0.1844     \n",
      "Epoch 34/50\n",
      "4092/4092 [==============================] - 0s - loss: 0.3119     \n",
      "Epoch 35/50\n",
      "4092/4092 [==============================] - 0s - loss: 0.3305     \n",
      "Epoch 36/50\n",
      "4092/4092 [==============================] - 0s - loss: 0.1714     \n",
      "Epoch 37/50\n",
      "4092/4092 [==============================] - 0s - loss: -0.0354     \n",
      "Epoch 38/50\n",
      "4092/4092 [==============================] - 0s - loss: -0.1191     \n",
      "Epoch 39/50\n",
      "4092/4092 [==============================] - 0s - loss: -0.1361     \n",
      "Epoch 40/50\n",
      "4092/4092 [==============================] - 0s - loss: -0.1506     \n",
      "Epoch 41/50\n",
      "4092/4092 [==============================] - 0s - loss: -0.1520     \n",
      "Epoch 42/50\n",
      "4092/4092 [==============================] - 0s - loss: -0.1605     \n",
      "Epoch 43/50\n",
      "4092/4092 [==============================] - 0s - loss: -0.1652     \n",
      "Epoch 44/50\n",
      "4092/4092 [==============================] - 0s - loss: -0.1698     \n",
      "Epoch 45/50\n",
      "4092/4092 [==============================] - 0s - loss: -0.1717     \n",
      "Epoch 46/50\n",
      "4092/4092 [==============================] - 0s - loss: -0.1731     \n",
      "Epoch 47/50\n",
      "4092/4092 [==============================] - 0s - loss: -0.1744     \n",
      "Epoch 48/50\n",
      "4092/4092 [==============================] - 0s - loss: -0.1757     \n",
      "Epoch 49/50\n",
      "4092/4092 [==============================] - 0s - loss: -0.1770     \n",
      "Epoch 50/50\n",
      "4092/4092 [==============================] - 0s - loss: -0.1783     \n"
     ]
    }
   ],
   "source": [
    "# Your neural network goes here.\n",
    "#Split the data. 25% for test and 75% for training\n",
    "# creating train data\n",
    "\n",
    "\n",
    "from sklearn.model_selection import train_test_split\n",
    "x_train, x_test, y_train, y_test = train_test_split(file_2sens.iloc[:,:2].values,\n",
    "                                                    fC,\n",
    "                                                    test_size=0.25, \n",
    "                                                    random_state=42)\n",
    "\n",
    "\n",
    "# Remember to import the kind of layers you want from the keras library.\n",
    "from keras.models import Sequential\n",
    "from keras.layers import Dense, Activation\n",
    "from keras import optimizers\n",
    "model = Sequential()\n",
    "model.add(Dense(10, input_shape=(2,)))\n",
    "model.add(Activation('relu')) #relu\n",
    "model.add(Dense(1))\n",
    "model.add(Activation('relu'))\n",
    "adam = optimizers.Adam(lr=0.001, beta_1=0.9,\n",
    "beta_2=0.999, epsilon=1e-08, decay=0.0)\n",
    "model.compile(loss='binary_crossentropy', optimizer=adam)\n",
    "model.fit(x=x_train,y=y_train,\n",
    "epochs = 50, batch_size=500, shuffle=False)\n",
    "y_pred = model.predict(x_test, batch_size = 1000)"
   ]
  },
  {
   "cell_type": "code",
   "execution_count": 64,
   "metadata": {},
   "outputs": [
    {
     "data": {
      "text/plain": [
       "<matplotlib.legend.Legend at 0x7f029962a780>"
      ]
     },
     "execution_count": 64,
     "metadata": {},
     "output_type": "execute_result"
    },
    {
     "data": {
      "image/png": "[encoded data removed]",
      "text/plain": [
       "<matplotlib.figure.Figure at 0x7f02996a1908>"
      ]
     },
     "metadata": {},
     "output_type": "display_data"
    }
   ],
   "source": [
    "plt.plot(x_test,y_test,ls='',marker='.',label='trained')\n",
    "plt.plot(x_test,y_pred,ls='',marker='.',label='predicted')\n",
    "plt.legend()"
   ]
  },
  {
   "cell_type": "markdown",
   "metadata": {},
   "source": []
  }
 ],
 "metadata": {
  "kernelspec": {
   "display_name": "Python 3",
   "language": "python",
   "name": "python3"
  },
  "language_info": {
   "codemirror_mode": {
    "name": "ipython",
    "version": 3
   },
   "file_extension": ".py",
   "mimetype": "text/x-python",
   "name": "python",
   "nbconvert_exporter": "python",
   "pygments_lexer": "ipython3",
   "version": "3.6.1"
  }
 },
 "nbformat": 4,
 "nbformat_minor": 2
}
